{
 "cells": [
  {
   "cell_type": "code",
   "execution_count": 2,
   "id": "045aae9c",
   "metadata": {},
   "outputs": [],
   "source": [
    "from warnings import filterwarnings\n",
    "filterwarnings(\"ignore\")"
   ]
  },
  {
   "cell_type": "markdown",
   "id": "46b3eaf3",
   "metadata": {},
   "source": [
    "# Read Data"
   ]
  },
  {
   "cell_type": "code",
   "execution_count": 3,
   "id": "ba8a8c46",
   "metadata": {},
   "outputs": [],
   "source": [
    "import pandas as pd\n",
    "A = pd.read_csv(\"D:/Downloads/Projects/training_set.csv\")"
   ]
  },
  {
   "cell_type": "code",
   "execution_count": 4,
   "id": "8c253060",
   "metadata": {},
   "outputs": [
    {
     "data": {
      "text/html": [
       "<div>\n",
       "<style scoped>\n",
       "    .dataframe tbody tr th:only-of-type {\n",
       "        vertical-align: middle;\n",
       "    }\n",
       "\n",
       "    .dataframe tbody tr th {\n",
       "        vertical-align: top;\n",
       "    }\n",
       "\n",
       "    .dataframe thead th {\n",
       "        text-align: right;\n",
       "    }\n",
       "</style>\n",
       "<table border=\"1\" class=\"dataframe\">\n",
       "  <thead>\n",
       "    <tr style=\"text-align: right;\">\n",
       "      <th></th>\n",
       "      <th>Loan_ID</th>\n",
       "      <th>Gender</th>\n",
       "      <th>Married</th>\n",
       "      <th>Dependents</th>\n",
       "      <th>Education</th>\n",
       "      <th>Self_Employed</th>\n",
       "      <th>ApplicantIncome</th>\n",
       "      <th>CoapplicantIncome</th>\n",
       "      <th>LoanAmount</th>\n",
       "      <th>Loan_Amount_Term</th>\n",
       "      <th>Credit_History</th>\n",
       "      <th>Property_Area</th>\n",
       "      <th>Loan_Status</th>\n",
       "    </tr>\n",
       "  </thead>\n",
       "  <tbody>\n",
       "    <tr>\n",
       "      <th>0</th>\n",
       "      <td>LP001002</td>\n",
       "      <td>Male</td>\n",
       "      <td>No</td>\n",
       "      <td>0</td>\n",
       "      <td>Graduate</td>\n",
       "      <td>No</td>\n",
       "      <td>5849.0</td>\n",
       "      <td>0.0</td>\n",
       "      <td>NaN</td>\n",
       "      <td>360.0</td>\n",
       "      <td>1.0</td>\n",
       "      <td>Urban</td>\n",
       "      <td>Y</td>\n",
       "    </tr>\n",
       "    <tr>\n",
       "      <th>1</th>\n",
       "      <td>LP001003</td>\n",
       "      <td>Male</td>\n",
       "      <td>Yes</td>\n",
       "      <td>1</td>\n",
       "      <td>Graduate</td>\n",
       "      <td>No</td>\n",
       "      <td>NaN</td>\n",
       "      <td>1508.0</td>\n",
       "      <td>128.0</td>\n",
       "      <td>360.0</td>\n",
       "      <td>1.0</td>\n",
       "      <td>Rural</td>\n",
       "      <td>N</td>\n",
       "    </tr>\n",
       "    <tr>\n",
       "      <th>2</th>\n",
       "      <td>LP001005</td>\n",
       "      <td>Male</td>\n",
       "      <td>Yes</td>\n",
       "      <td>0</td>\n",
       "      <td>Graduate</td>\n",
       "      <td>Yes</td>\n",
       "      <td>3000.0</td>\n",
       "      <td>0.0</td>\n",
       "      <td>66.0</td>\n",
       "      <td>360.0</td>\n",
       "      <td>1.0</td>\n",
       "      <td>Urban</td>\n",
       "      <td>Y</td>\n",
       "    </tr>\n",
       "    <tr>\n",
       "      <th>3</th>\n",
       "      <td>LP001006</td>\n",
       "      <td>Male</td>\n",
       "      <td>Yes</td>\n",
       "      <td>0</td>\n",
       "      <td>Not Graduate</td>\n",
       "      <td>No</td>\n",
       "      <td>2583.0</td>\n",
       "      <td>2358.0</td>\n",
       "      <td>120.0</td>\n",
       "      <td>360.0</td>\n",
       "      <td>1.0</td>\n",
       "      <td>Urban</td>\n",
       "      <td>Y</td>\n",
       "    </tr>\n",
       "    <tr>\n",
       "      <th>4</th>\n",
       "      <td>LP001008</td>\n",
       "      <td>Male</td>\n",
       "      <td>No</td>\n",
       "      <td>0</td>\n",
       "      <td>Graduate</td>\n",
       "      <td>No</td>\n",
       "      <td>6000.0</td>\n",
       "      <td>0.0</td>\n",
       "      <td>141.0</td>\n",
       "      <td>360.0</td>\n",
       "      <td>1.0</td>\n",
       "      <td>Urban</td>\n",
       "      <td>Y</td>\n",
       "    </tr>\n",
       "  </tbody>\n",
       "</table>\n",
       "</div>"
      ],
      "text/plain": [
       "    Loan_ID Gender Married Dependents     Education Self_Employed  \\\n",
       "0  LP001002   Male      No          0      Graduate            No   \n",
       "1  LP001003   Male     Yes          1      Graduate            No   \n",
       "2  LP001005   Male     Yes          0      Graduate           Yes   \n",
       "3  LP001006   Male     Yes          0  Not Graduate            No   \n",
       "4  LP001008   Male      No          0      Graduate            No   \n",
       "\n",
       "   ApplicantIncome  CoapplicantIncome  LoanAmount  Loan_Amount_Term  \\\n",
       "0           5849.0                0.0         NaN             360.0   \n",
       "1              NaN             1508.0       128.0             360.0   \n",
       "2           3000.0                0.0        66.0             360.0   \n",
       "3           2583.0             2358.0       120.0             360.0   \n",
       "4           6000.0                0.0       141.0             360.0   \n",
       "\n",
       "   Credit_History Property_Area Loan_Status  \n",
       "0             1.0         Urban           Y  \n",
       "1             1.0         Rural           N  \n",
       "2             1.0         Urban           Y  \n",
       "3             1.0         Urban           Y  \n",
       "4             1.0         Urban           Y  "
      ]
     },
     "execution_count": 4,
     "metadata": {},
     "output_type": "execute_result"
    }
   ],
   "source": [
    "A.head()"
   ]
  },
  {
   "cell_type": "markdown",
   "id": "3fa3f778",
   "metadata": {},
   "source": [
    "# Drop unwanted columns"
   ]
  },
  {
   "cell_type": "code",
   "execution_count": 5,
   "id": "82abf09d",
   "metadata": {},
   "outputs": [],
   "source": [
    "B = A.drop(labels=[\"Loan_ID\"],axis=1)"
   ]
  },
  {
   "cell_type": "markdown",
   "id": "a9e40ca3",
   "metadata": {},
   "source": [
    "# Missing Data Treatment"
   ]
  },
  {
   "cell_type": "code",
   "execution_count": 6,
   "id": "9573f208",
   "metadata": {},
   "outputs": [],
   "source": [
    "from preprocessing_6PM import replacer\n",
    "replacer(B)"
   ]
  },
  {
   "cell_type": "markdown",
   "id": "e6fcdf44",
   "metadata": {},
   "source": [
    "# Define X and Y"
   ]
  },
  {
   "cell_type": "code",
   "execution_count": 7,
   "id": "6084e010",
   "metadata": {},
   "outputs": [],
   "source": [
    "Y = B[[\"Loan_Status\"]]\n",
    "X = B.drop(labels=[\"Loan_Status\"],axis=1)"
   ]
  },
  {
   "cell_type": "code",
   "execution_count": 8,
   "id": "a2e82ae0",
   "metadata": {},
   "outputs": [],
   "source": [
    "from preprocessing_6PM import data_prep\n",
    "Xnew = data_prep(X)"
   ]
  },
  {
   "cell_type": "markdown",
   "id": "35adece6",
   "metadata": {},
   "source": [
    "# Preprocessing"
   ]
  },
  {
   "cell_type": "code",
   "execution_count": 10,
   "id": "0a851580",
   "metadata": {},
   "outputs": [],
   "source": [
    "from sklearn.preprocessing import LabelEncoder\n",
    "le = LabelEncoder()\n",
    "Y.Loan_Status = le.fit_transform(Y)"
   ]
  },
  {
   "cell_type": "code",
   "execution_count": 11,
   "id": "d07914a5",
   "metadata": {},
   "outputs": [],
   "source": [
    "from sklearn.model_selection import train_test_split\n",
    "xtrain,xtest,ytrain,ytest=train_test_split(Xnew,Y,test_size=0.2,random_state=21)"
   ]
  },
  {
   "cell_type": "markdown",
   "id": "e1c77423",
   "metadata": {},
   "source": [
    "# Create NN"
   ]
  },
  {
   "cell_type": "code",
   "execution_count": 14,
   "id": "ea162dec",
   "metadata": {},
   "outputs": [],
   "source": [
    "from keras.models import Sequential\n",
    "from keras.layers import Dense,Dropout\n",
    "from keras.callbacks import EarlyStopping"
   ]
  },
  {
   "cell_type": "code",
   "execution_count": 15,
   "id": "9b791da1",
   "metadata": {},
   "outputs": [],
   "source": [
    "nn = Sequential()\n",
    "nn.add(Dense(200,input_dim=(Xnew.shape[1])))\n",
    "nn.add(Dense(200))\n",
    "nn.add(Dropout(0.2))\n",
    "nn.add(Dense(200))\n",
    "nn.add(Dropout(0.2))\n",
    "nn.add(Dense(200))\n",
    "nn.add(Dropout(0.2))\n",
    "nn.add(Dense(1,activation=\"sigmoid\"))"
   ]
  },
  {
   "cell_type": "code",
   "execution_count": 16,
   "id": "271beada",
   "metadata": {},
   "outputs": [
    {
     "name": "stdout",
     "output_type": "stream",
     "text": [
      "Epoch 1/100\n",
      "98/98 [==============================] - 4s 8ms/step - loss: 0.6531 - accuracy: 0.7449 - val_loss: 0.8252 - val_accuracy: 0.4848\n",
      "Epoch 2/100\n",
      "98/98 [==============================] - 0s 4ms/step - loss: 0.5612 - accuracy: 0.7526 - val_loss: 0.5431 - val_accuracy: 0.7980\n",
      "Epoch 3/100\n",
      "98/98 [==============================] - 0s 4ms/step - loss: 0.6207 - accuracy: 0.7526 - val_loss: 0.5779 - val_accuracy: 0.7980\n",
      "Epoch 4/100\n",
      "98/98 [==============================] - 0s 4ms/step - loss: 0.5587 - accuracy: 0.7704 - val_loss: 0.6589 - val_accuracy: 0.8081\n",
      "Epoch 5/100\n",
      "98/98 [==============================] - 0s 4ms/step - loss: 0.5487 - accuracy: 0.7806 - val_loss: 0.6090 - val_accuracy: 0.7980\n",
      "Epoch 6/100\n",
      "98/98 [==============================] - 0s 4ms/step - loss: 0.5701 - accuracy: 0.7959 - val_loss: 0.5550 - val_accuracy: 0.7980\n",
      "Epoch 7/100\n",
      "98/98 [==============================] - 0s 4ms/step - loss: 0.5194 - accuracy: 0.7883 - val_loss: 0.6412 - val_accuracy: 0.7677\n",
      "Epoch 8/100\n",
      "98/98 [==============================] - 0s 4ms/step - loss: 0.5545 - accuracy: 0.7755 - val_loss: 0.5179 - val_accuracy: 0.7778\n",
      "Epoch 9/100\n",
      "98/98 [==============================] - 0s 4ms/step - loss: 0.5233 - accuracy: 0.7857 - val_loss: 0.5395 - val_accuracy: 0.7879\n",
      "Epoch 10/100\n",
      "98/98 [==============================] - 0s 4ms/step - loss: 0.5369 - accuracy: 0.7755 - val_loss: 0.5448 - val_accuracy: 0.7879\n",
      "Epoch 11/100\n",
      "98/98 [==============================] - 0s 4ms/step - loss: 0.5192 - accuracy: 0.7781 - val_loss: 0.5139 - val_accuracy: 0.8081\n",
      "Epoch 12/100\n",
      "98/98 [==============================] - 0s 4ms/step - loss: 0.5347 - accuracy: 0.7985 - val_loss: 0.5057 - val_accuracy: 0.8485\n",
      "Epoch 13/100\n",
      "98/98 [==============================] - 0s 4ms/step - loss: 0.5144 - accuracy: 0.7704 - val_loss: 0.5569 - val_accuracy: 0.7879\n",
      "Epoch 14/100\n",
      "98/98 [==============================] - 0s 4ms/step - loss: 0.5137 - accuracy: 0.7934 - val_loss: 0.5151 - val_accuracy: 0.8081\n",
      "Epoch 15/100\n",
      "98/98 [==============================] - 0s 5ms/step - loss: 0.4969 - accuracy: 0.7755 - val_loss: 0.4787 - val_accuracy: 0.8081\n",
      "Epoch 16/100\n",
      "98/98 [==============================] - 0s 4ms/step - loss: 0.5116 - accuracy: 0.7832 - val_loss: 0.5576 - val_accuracy: 0.7980\n",
      "Epoch 17/100\n",
      "98/98 [==============================] - 0s 4ms/step - loss: 0.4993 - accuracy: 0.7883 - val_loss: 0.5116 - val_accuracy: 0.8081\n",
      "Epoch 18/100\n",
      "98/98 [==============================] - 0s 4ms/step - loss: 0.5163 - accuracy: 0.7883 - val_loss: 0.5419 - val_accuracy: 0.7980\n",
      "Epoch 19/100\n",
      "98/98 [==============================] - 0s 4ms/step - loss: 0.5046 - accuracy: 0.8087 - val_loss: 0.5475 - val_accuracy: 0.7778\n",
      "Epoch 20/100\n",
      "98/98 [==============================] - 0s 4ms/step - loss: 0.5203 - accuracy: 0.7908 - val_loss: 0.4975 - val_accuracy: 0.8081\n",
      "Epoch 21/100\n",
      "98/98 [==============================] - 0s 4ms/step - loss: 0.4952 - accuracy: 0.8010 - val_loss: 0.5149 - val_accuracy: 0.8081\n",
      "Epoch 22/100\n",
      "98/98 [==============================] - 0s 4ms/step - loss: 0.5042 - accuracy: 0.7985 - val_loss: 0.5238 - val_accuracy: 0.8081\n",
      "Epoch 23/100\n",
      "98/98 [==============================] - 0s 4ms/step - loss: 0.4945 - accuracy: 0.7985 - val_loss: 0.5354 - val_accuracy: 0.8081\n",
      "Epoch 24/100\n",
      "98/98 [==============================] - 0s 4ms/step - loss: 0.5013 - accuracy: 0.7883 - val_loss: 0.4928 - val_accuracy: 0.8283\n",
      "Epoch 25/100\n",
      "98/98 [==============================] - 0s 4ms/step - loss: 0.5049 - accuracy: 0.7985 - val_loss: 0.5448 - val_accuracy: 0.8182\n",
      "Epoch 26/100\n",
      "98/98 [==============================] - 0s 4ms/step - loss: 0.4938 - accuracy: 0.8036 - val_loss: 0.5204 - val_accuracy: 0.8081\n",
      "Epoch 27/100\n",
      "98/98 [==============================] - 0s 4ms/step - loss: 0.4795 - accuracy: 0.8036 - val_loss: 0.6502 - val_accuracy: 0.7980\n",
      "Epoch 28/100\n",
      "98/98 [==============================] - 0s 4ms/step - loss: 0.4911 - accuracy: 0.8061 - val_loss: 0.5915 - val_accuracy: 0.8182\n",
      "Epoch 29/100\n",
      "98/98 [==============================] - 0s 4ms/step - loss: 0.4957 - accuracy: 0.8112 - val_loss: 0.5409 - val_accuracy: 0.8182\n",
      "Epoch 30/100\n",
      "98/98 [==============================] - 0s 4ms/step - loss: 0.5014 - accuracy: 0.8087 - val_loss: 0.5126 - val_accuracy: 0.8081\n",
      "Epoch 31/100\n",
      "98/98 [==============================] - 0s 4ms/step - loss: 0.4818 - accuracy: 0.8010 - val_loss: 0.5293 - val_accuracy: 0.7778\n",
      "Epoch 32/100\n",
      "98/98 [==============================] - 0s 4ms/step - loss: 0.4859 - accuracy: 0.7908 - val_loss: 0.5249 - val_accuracy: 0.7980\n",
      "Epoch 33/100\n",
      "98/98 [==============================] - 0s 4ms/step - loss: 0.4962 - accuracy: 0.8061 - val_loss: 0.5167 - val_accuracy: 0.7879\n",
      "Epoch 34/100\n",
      "98/98 [==============================] - 0s 4ms/step - loss: 0.5006 - accuracy: 0.7832 - val_loss: 0.5160 - val_accuracy: 0.7980\n",
      "Epoch 35/100\n",
      "98/98 [==============================] - 0s 4ms/step - loss: 0.4929 - accuracy: 0.8010 - val_loss: 0.5725 - val_accuracy: 0.8081\n",
      "Epoch 36/100\n",
      "98/98 [==============================] - 0s 4ms/step - loss: 0.4922 - accuracy: 0.8061 - val_loss: 0.5347 - val_accuracy: 0.7980\n",
      "Epoch 37/100\n",
      "98/98 [==============================] - 0s 4ms/step - loss: 0.4954 - accuracy: 0.8036 - val_loss: 0.5192 - val_accuracy: 0.7980\n",
      "Epoch 38/100\n",
      "98/98 [==============================] - 0s 4ms/step - loss: 0.4911 - accuracy: 0.8010 - val_loss: 0.5728 - val_accuracy: 0.8081\n",
      "Epoch 39/100\n",
      "98/98 [==============================] - 0s 4ms/step - loss: 0.4964 - accuracy: 0.8061 - val_loss: 0.5803 - val_accuracy: 0.7980\n",
      "Epoch 40/100\n",
      "98/98 [==============================] - 0s 4ms/step - loss: 0.5000 - accuracy: 0.8036 - val_loss: 0.5368 - val_accuracy: 0.8081\n",
      "Epoch 41/100\n",
      "98/98 [==============================] - 0s 4ms/step - loss: 0.5068 - accuracy: 0.8087 - val_loss: 0.5272 - val_accuracy: 0.8182\n",
      "Epoch 42/100\n",
      "98/98 [==============================] - 0s 4ms/step - loss: 0.4876 - accuracy: 0.8036 - val_loss: 0.5646 - val_accuracy: 0.8081\n",
      "Epoch 43/100\n",
      "98/98 [==============================] - 0s 4ms/step - loss: 0.4748 - accuracy: 0.7959 - val_loss: 0.7148 - val_accuracy: 0.8081\n",
      "Epoch 44/100\n",
      "98/98 [==============================] - 0s 4ms/step - loss: 0.5018 - accuracy: 0.8087 - val_loss: 0.5063 - val_accuracy: 0.7980\n",
      "Epoch 45/100\n",
      "98/98 [==============================] - 0s 4ms/step - loss: 0.4854 - accuracy: 0.8010 - val_loss: 0.5620 - val_accuracy: 0.7980\n",
      "Epoch 46/100\n",
      "98/98 [==============================] - 0s 4ms/step - loss: 0.4999 - accuracy: 0.7934 - val_loss: 0.4993 - val_accuracy: 0.7980\n",
      "Epoch 47/100\n",
      "98/98 [==============================] - 0s 4ms/step - loss: 0.4897 - accuracy: 0.8112 - val_loss: 0.6304 - val_accuracy: 0.8081\n",
      "Epoch 48/100\n",
      "98/98 [==============================] - 0s 4ms/step - loss: 0.4952 - accuracy: 0.8087 - val_loss: 0.4970 - val_accuracy: 0.7980\n",
      "Epoch 49/100\n",
      "98/98 [==============================] - 0s 4ms/step - loss: 0.4861 - accuracy: 0.8163 - val_loss: 0.5347 - val_accuracy: 0.7879\n",
      "Epoch 50/100\n",
      "98/98 [==============================] - 0s 4ms/step - loss: 0.5032 - accuracy: 0.8112 - val_loss: 0.5152 - val_accuracy: 0.8081\n",
      "Epoch 51/100\n",
      "98/98 [==============================] - 0s 4ms/step - loss: 0.4836 - accuracy: 0.8036 - val_loss: 0.5359 - val_accuracy: 0.7980\n",
      "Epoch 52/100\n",
      "98/98 [==============================] - 0s 4ms/step - loss: 0.4917 - accuracy: 0.8010 - val_loss: 0.5164 - val_accuracy: 0.8081\n",
      "Epoch 53/100\n",
      "98/98 [==============================] - 0s 4ms/step - loss: 0.4789 - accuracy: 0.8061 - val_loss: 0.6187 - val_accuracy: 0.7879\n",
      "Epoch 54/100\n",
      "98/98 [==============================] - 0s 4ms/step - loss: 0.4892 - accuracy: 0.8112 - val_loss: 0.5376 - val_accuracy: 0.7980\n",
      "Epoch 55/100\n",
      "98/98 [==============================] - 0s 4ms/step - loss: 0.4961 - accuracy: 0.7985 - val_loss: 0.5442 - val_accuracy: 0.8081\n",
      "Epoch 56/100\n",
      "98/98 [==============================] - 0s 4ms/step - loss: 0.4853 - accuracy: 0.8112 - val_loss: 0.5769 - val_accuracy: 0.7980\n",
      "Epoch 57/100\n",
      "98/98 [==============================] - 0s 4ms/step - loss: 0.4933 - accuracy: 0.8061 - val_loss: 0.5255 - val_accuracy: 0.7980\n",
      "Epoch 58/100\n",
      "98/98 [==============================] - 0s 4ms/step - loss: 0.4785 - accuracy: 0.7959 - val_loss: 0.5703 - val_accuracy: 0.7879\n",
      "Epoch 59/100\n",
      "98/98 [==============================] - 0s 4ms/step - loss: 0.4824 - accuracy: 0.8112 - val_loss: 0.5474 - val_accuracy: 0.8081\n",
      "Epoch 60/100\n",
      "98/98 [==============================] - 0s 5ms/step - loss: 0.4899 - accuracy: 0.8036 - val_loss: 0.5178 - val_accuracy: 0.8081\n",
      "Epoch 61/100\n",
      "98/98 [==============================] - 0s 4ms/step - loss: 0.4916 - accuracy: 0.8112 - val_loss: 0.5170 - val_accuracy: 0.7980\n",
      "Epoch 62/100\n",
      "98/98 [==============================] - 0s 4ms/step - loss: 0.4909 - accuracy: 0.8214 - val_loss: 0.5047 - val_accuracy: 0.8081\n",
      "Epoch 63/100\n",
      "98/98 [==============================] - 0s 4ms/step - loss: 0.4789 - accuracy: 0.8061 - val_loss: 0.5140 - val_accuracy: 0.7980\n",
      "Epoch 64/100\n",
      "98/98 [==============================] - 0s 4ms/step - loss: 0.4822 - accuracy: 0.8036 - val_loss: 0.6150 - val_accuracy: 0.8081\n",
      "Epoch 65/100\n",
      "98/98 [==============================] - 0s 4ms/step - loss: 0.4966 - accuracy: 0.8061 - val_loss: 0.5345 - val_accuracy: 0.7980\n",
      "Epoch 66/100\n",
      "98/98 [==============================] - 0s 4ms/step - loss: 0.4788 - accuracy: 0.8061 - val_loss: 0.5132 - val_accuracy: 0.8081\n",
      "Epoch 67/100\n",
      "98/98 [==============================] - 0s 4ms/step - loss: 0.4838 - accuracy: 0.8087 - val_loss: 0.5574 - val_accuracy: 0.7980\n",
      "Epoch 68/100\n",
      "98/98 [==============================] - 0s 4ms/step - loss: 0.4882 - accuracy: 0.8138 - val_loss: 0.6739 - val_accuracy: 0.8081\n",
      "Epoch 69/100\n",
      "98/98 [==============================] - 0s 4ms/step - loss: 0.4855 - accuracy: 0.8061 - val_loss: 0.5189 - val_accuracy: 0.8081\n",
      "Epoch 70/100\n",
      "98/98 [==============================] - 0s 4ms/step - loss: 0.4996 - accuracy: 0.8138 - val_loss: 0.5185 - val_accuracy: 0.8081\n",
      "Epoch 71/100\n",
      "98/98 [==============================] - 0s 4ms/step - loss: 0.4910 - accuracy: 0.8087 - val_loss: 0.5314 - val_accuracy: 0.7980\n",
      "Epoch 72/100\n",
      "98/98 [==============================] - 0s 4ms/step - loss: 0.4913 - accuracy: 0.8061 - val_loss: 0.5551 - val_accuracy: 0.7980\n",
      "Epoch 73/100\n",
      "98/98 [==============================] - 0s 4ms/step - loss: 0.4864 - accuracy: 0.8112 - val_loss: 0.5164 - val_accuracy: 0.7980\n",
      "Epoch 74/100\n",
      "98/98 [==============================] - 0s 4ms/step - loss: 0.4840 - accuracy: 0.7959 - val_loss: 0.5518 - val_accuracy: 0.8081\n",
      "Epoch 75/100\n",
      "98/98 [==============================] - 0s 4ms/step - loss: 0.4901 - accuracy: 0.8061 - val_loss: 0.5137 - val_accuracy: 0.8081\n",
      "Epoch 76/100\n",
      "98/98 [==============================] - 0s 4ms/step - loss: 0.4892 - accuracy: 0.7959 - val_loss: 0.5416 - val_accuracy: 0.7980\n",
      "Epoch 77/100\n",
      "98/98 [==============================] - 0s 4ms/step - loss: 0.4851 - accuracy: 0.8036 - val_loss: 0.4918 - val_accuracy: 0.8081\n",
      "Epoch 78/100\n",
      "98/98 [==============================] - 0s 4ms/step - loss: 0.4928 - accuracy: 0.7959 - val_loss: 0.5036 - val_accuracy: 0.8081\n",
      "Epoch 79/100\n",
      "98/98 [==============================] - 0s 4ms/step - loss: 0.4693 - accuracy: 0.8138 - val_loss: 0.6132 - val_accuracy: 0.7980\n",
      "Epoch 80/100\n",
      "98/98 [==============================] - 0s 4ms/step - loss: 0.4879 - accuracy: 0.8010 - val_loss: 0.5327 - val_accuracy: 0.8081\n",
      "Epoch 81/100\n",
      "98/98 [==============================] - 0s 4ms/step - loss: 0.4861 - accuracy: 0.8163 - val_loss: 0.5115 - val_accuracy: 0.8182\n",
      "Epoch 82/100\n",
      "98/98 [==============================] - 0s 4ms/step - loss: 0.4954 - accuracy: 0.7959 - val_loss: 0.4932 - val_accuracy: 0.8081\n",
      "Epoch 83/100\n",
      "98/98 [==============================] - 0s 4ms/step - loss: 0.4813 - accuracy: 0.8010 - val_loss: 0.5132 - val_accuracy: 0.8081\n",
      "Epoch 84/100\n",
      "98/98 [==============================] - 0s 4ms/step - loss: 0.4757 - accuracy: 0.8010 - val_loss: 0.5205 - val_accuracy: 0.7879\n",
      "Epoch 85/100\n",
      "98/98 [==============================] - 0s 4ms/step - loss: 0.4892 - accuracy: 0.8112 - val_loss: 0.5736 - val_accuracy: 0.7879\n",
      "Epoch 86/100\n",
      "98/98 [==============================] - 0s 4ms/step - loss: 0.4867 - accuracy: 0.8010 - val_loss: 0.5232 - val_accuracy: 0.8182\n",
      "Epoch 87/100\n",
      "98/98 [==============================] - 0s 4ms/step - loss: 0.4726 - accuracy: 0.8061 - val_loss: 0.5374 - val_accuracy: 0.7980\n",
      "Epoch 88/100\n",
      "98/98 [==============================] - 0s 4ms/step - loss: 0.4982 - accuracy: 0.7959 - val_loss: 0.5112 - val_accuracy: 0.8081\n",
      "Epoch 89/100\n",
      "98/98 [==============================] - 0s 4ms/step - loss: 0.4765 - accuracy: 0.8036 - val_loss: 0.5297 - val_accuracy: 0.8081\n",
      "Epoch 90/100\n",
      "98/98 [==============================] - 0s 4ms/step - loss: 0.4902 - accuracy: 0.8061 - val_loss: 0.5200 - val_accuracy: 0.7980\n",
      "Epoch 91/100\n",
      "98/98 [==============================] - 0s 4ms/step - loss: 0.4898 - accuracy: 0.8087 - val_loss: 0.6683 - val_accuracy: 0.8081\n",
      "Epoch 92/100\n",
      "98/98 [==============================] - 0s 4ms/step - loss: 0.4948 - accuracy: 0.8189 - val_loss: 0.5328 - val_accuracy: 0.7980\n",
      "Epoch 93/100\n",
      "98/98 [==============================] - 0s 4ms/step - loss: 0.4927 - accuracy: 0.8087 - val_loss: 0.4963 - val_accuracy: 0.8081\n",
      "Epoch 94/100\n",
      "98/98 [==============================] - 0s 4ms/step - loss: 0.4821 - accuracy: 0.8061 - val_loss: 0.5586 - val_accuracy: 0.8182\n",
      "Epoch 95/100\n",
      "98/98 [==============================] - 1s 6ms/step - loss: 0.4857 - accuracy: 0.8138 - val_loss: 0.4976 - val_accuracy: 0.7980\n",
      "Epoch 96/100\n",
      "98/98 [==============================] - 0s 4ms/step - loss: 0.4951 - accuracy: 0.8112 - val_loss: 0.5047 - val_accuracy: 0.7980\n",
      "Epoch 97/100\n",
      "98/98 [==============================] - 0s 4ms/step - loss: 0.4937 - accuracy: 0.8010 - val_loss: 0.5351 - val_accuracy: 0.8081\n",
      "Epoch 98/100\n",
      "98/98 [==============================] - 0s 4ms/step - loss: 0.4890 - accuracy: 0.8189 - val_loss: 0.4985 - val_accuracy: 0.7879\n",
      "Epoch 99/100\n",
      "98/98 [==============================] - 0s 4ms/step - loss: 0.4750 - accuracy: 0.8061 - val_loss: 0.5215 - val_accuracy: 0.7980\n",
      "Epoch 100/100\n",
      "98/98 [==============================] - 0s 4ms/step - loss: 0.4888 - accuracy: 0.8010 - val_loss: 0.6109 - val_accuracy: 0.8081\n"
     ]
    },
    {
     "data": {
      "text/plain": [
       "<keras.callbacks.History at 0x229ef40c790>"
      ]
     },
     "execution_count": 16,
     "metadata": {},
     "output_type": "execute_result"
    }
   ],
   "source": [
    "nn.compile(loss=\"binary_crossentropy\",metrics=[\"accuracy\"])\n",
    "nn.fit(xtrain,ytrain,validation_split=0.2,batch_size=4,epochs=100)"
   ]
  },
  {
   "cell_type": "markdown",
   "id": "a618517a",
   "metadata": {},
   "source": [
    "# Import Testing Data"
   ]
  },
  {
   "cell_type": "code",
   "execution_count": 17,
   "id": "0e5c7b81",
   "metadata": {},
   "outputs": [],
   "source": [
    "C = pd.read_csv(\"D:/Downloads/Projects/testing_set.csv\")"
   ]
  },
  {
   "cell_type": "code",
   "execution_count": 18,
   "id": "d6a07a0b",
   "metadata": {},
   "outputs": [],
   "source": [
    "C = C.drop(labels=[\"Loan_ID\"],axis=1)"
   ]
  },
  {
   "cell_type": "code",
   "execution_count": 19,
   "id": "16fb11cf",
   "metadata": {},
   "outputs": [],
   "source": [
    "replacer(C)"
   ]
  },
  {
   "cell_type": "code",
   "execution_count": 21,
   "id": "62084719",
   "metadata": {},
   "outputs": [],
   "source": [
    "from preprocessing_6PM import data_prep\n",
    "test = data_prep(C)"
   ]
  },
  {
   "cell_type": "code",
   "execution_count": 22,
   "id": "3eb74c62",
   "metadata": {},
   "outputs": [
    {
     "data": {
      "text/plain": [
       "Index(['ApplicantIncome', 'CoapplicantIncome', 'LoanAmount',\n",
       "       'Loan_Amount_Term', 'Credit_History', 'Gender_Female', 'Gender_Male',\n",
       "       'Married_No', 'Married_Yes', 'Dependents_0', 'Dependents_1',\n",
       "       'Dependents_2', 'Dependents_3+', 'Education_Graduate',\n",
       "       'Education_Not Graduate', 'Self_Employed_No', 'Self_Employed_Yes',\n",
       "       'Property_Area_Rural', 'Property_Area_Semiurban',\n",
       "       'Property_Area_Urban'],\n",
       "      dtype='object')"
      ]
     },
     "execution_count": 22,
     "metadata": {},
     "output_type": "execute_result"
    }
   ],
   "source": [
    "test.columns"
   ]
  },
  {
   "cell_type": "code",
   "execution_count": 23,
   "id": "b4eecd43",
   "metadata": {},
   "outputs": [
    {
     "data": {
      "text/plain": [
       "Index(['ApplicantIncome', 'CoapplicantIncome', 'LoanAmount',\n",
       "       'Loan_Amount_Term', 'Credit_History', 'Gender_Female', 'Gender_Male',\n",
       "       'Married_No', 'Married_Yes', 'Dependents_0', 'Dependents_1',\n",
       "       'Dependents_2', 'Dependents_3+', 'Education_Graduate',\n",
       "       'Education_Not Graduate', 'Self_Employed_No', 'Self_Employed_Yes',\n",
       "       'Property_Area_Rural', 'Property_Area_Semiurban',\n",
       "       'Property_Area_Urban'],\n",
       "      dtype='object')"
      ]
     },
     "execution_count": 23,
     "metadata": {},
     "output_type": "execute_result"
    }
   ],
   "source": [
    "Xnew.columns"
   ]
  },
  {
   "cell_type": "code",
   "execution_count": 24,
   "id": "8bf91f5a",
   "metadata": {},
   "outputs": [
    {
     "data": {
      "text/plain": [
       "(367, 20)"
      ]
     },
     "execution_count": 24,
     "metadata": {},
     "output_type": "execute_result"
    }
   ],
   "source": [
    "test.shape"
   ]
  },
  {
   "cell_type": "code",
   "execution_count": 25,
   "id": "5b64a679",
   "metadata": {},
   "outputs": [
    {
     "data": {
      "text/plain": [
       "(614, 20)"
      ]
     },
     "execution_count": 25,
     "metadata": {},
     "output_type": "execute_result"
    }
   ],
   "source": [
    "Xnew.shape"
   ]
  },
  {
   "cell_type": "code",
   "execution_count": 26,
   "id": "a05b7f3d",
   "metadata": {},
   "outputs": [],
   "source": [
    "Q = []\n",
    "for i in nn.predict(test):\n",
    "    if(i[0] < 0.5):\n",
    "        Q.append(0)\n",
    "    else:\n",
    "        Q.append(1)"
   ]
  },
  {
   "cell_type": "code",
   "execution_count": 27,
   "id": "75667050",
   "metadata": {},
   "outputs": [],
   "source": [
    "pred = le.inverse_transform(Q)"
   ]
  },
  {
   "cell_type": "code",
   "execution_count": 30,
   "id": "ef6990df",
   "metadata": {},
   "outputs": [],
   "source": [
    "C = pd.read_csv(\"D:/Downloads/Projects/testing_set.csv\")"
   ]
  },
  {
   "cell_type": "code",
   "execution_count": 31,
   "id": "f9e66f18",
   "metadata": {},
   "outputs": [],
   "source": [
    "D = C[[\"Loan_ID\"]]"
   ]
  },
  {
   "cell_type": "code",
   "execution_count": 32,
   "id": "51f6bc9e",
   "metadata": {},
   "outputs": [],
   "source": [
    "D['Loan_Status_predicted'] = pred"
   ]
  },
  {
   "cell_type": "code",
   "execution_count": 33,
   "id": "0629184e",
   "metadata": {},
   "outputs": [
    {
     "data": {
      "text/html": [
       "<div>\n",
       "<style scoped>\n",
       "    .dataframe tbody tr th:only-of-type {\n",
       "        vertical-align: middle;\n",
       "    }\n",
       "\n",
       "    .dataframe tbody tr th {\n",
       "        vertical-align: top;\n",
       "    }\n",
       "\n",
       "    .dataframe thead th {\n",
       "        text-align: right;\n",
       "    }\n",
       "</style>\n",
       "<table border=\"1\" class=\"dataframe\">\n",
       "  <thead>\n",
       "    <tr style=\"text-align: right;\">\n",
       "      <th></th>\n",
       "      <th>Loan_ID</th>\n",
       "      <th>Loan_Status_predicted</th>\n",
       "    </tr>\n",
       "  </thead>\n",
       "  <tbody>\n",
       "    <tr>\n",
       "      <th>0</th>\n",
       "      <td>LP001015</td>\n",
       "      <td>Y</td>\n",
       "    </tr>\n",
       "    <tr>\n",
       "      <th>1</th>\n",
       "      <td>LP001022</td>\n",
       "      <td>Y</td>\n",
       "    </tr>\n",
       "    <tr>\n",
       "      <th>2</th>\n",
       "      <td>LP001031</td>\n",
       "      <td>Y</td>\n",
       "    </tr>\n",
       "    <tr>\n",
       "      <th>3</th>\n",
       "      <td>LP001035</td>\n",
       "      <td>Y</td>\n",
       "    </tr>\n",
       "    <tr>\n",
       "      <th>4</th>\n",
       "      <td>LP001051</td>\n",
       "      <td>Y</td>\n",
       "    </tr>\n",
       "    <tr>\n",
       "      <th>...</th>\n",
       "      <td>...</td>\n",
       "      <td>...</td>\n",
       "    </tr>\n",
       "    <tr>\n",
       "      <th>362</th>\n",
       "      <td>LP002971</td>\n",
       "      <td>Y</td>\n",
       "    </tr>\n",
       "    <tr>\n",
       "      <th>363</th>\n",
       "      <td>LP002975</td>\n",
       "      <td>Y</td>\n",
       "    </tr>\n",
       "    <tr>\n",
       "      <th>364</th>\n",
       "      <td>LP002980</td>\n",
       "      <td>Y</td>\n",
       "    </tr>\n",
       "    <tr>\n",
       "      <th>365</th>\n",
       "      <td>LP002986</td>\n",
       "      <td>Y</td>\n",
       "    </tr>\n",
       "    <tr>\n",
       "      <th>366</th>\n",
       "      <td>LP002989</td>\n",
       "      <td>Y</td>\n",
       "    </tr>\n",
       "  </tbody>\n",
       "</table>\n",
       "<p>367 rows × 2 columns</p>\n",
       "</div>"
      ],
      "text/plain": [
       "      Loan_ID Loan_Status_predicted\n",
       "0    LP001015                     Y\n",
       "1    LP001022                     Y\n",
       "2    LP001031                     Y\n",
       "3    LP001035                     Y\n",
       "4    LP001051                     Y\n",
       "..        ...                   ...\n",
       "362  LP002971                     Y\n",
       "363  LP002975                     Y\n",
       "364  LP002980                     Y\n",
       "365  LP002986                     Y\n",
       "366  LP002989                     Y\n",
       "\n",
       "[367 rows x 2 columns]"
      ]
     },
     "execution_count": 33,
     "metadata": {},
     "output_type": "execute_result"
    }
   ],
   "source": [
    "D"
   ]
  },
  {
   "cell_type": "code",
   "execution_count": null,
   "id": "e54f7fe7",
   "metadata": {},
   "outputs": [],
   "source": []
  }
 ],
 "metadata": {
  "kernelspec": {
   "display_name": "Python 3 (ipykernel)",
   "language": "python",
   "name": "python3"
  },
  "language_info": {
   "codemirror_mode": {
    "name": "ipython",
    "version": 3
   },
   "file_extension": ".py",
   "mimetype": "text/x-python",
   "name": "python",
   "nbconvert_exporter": "python",
   "pygments_lexer": "ipython3",
   "version": "3.8.12"
  }
 },
 "nbformat": 4,
 "nbformat_minor": 5
}
